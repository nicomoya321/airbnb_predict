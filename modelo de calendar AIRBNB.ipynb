{
  "nbformat": 4,
  "nbformat_minor": 0,
  "metadata": {
    "colab": {
      "private_outputs": true,
      "provenance": []
    },
    "kernelspec": {
      "name": "python3",
      "display_name": "Python 3"
    },
    "language_info": {
      "name": "python"
    }
  },
  "cells": [
    {
      "cell_type": "code",
      "execution_count": null,
      "metadata": {
        "id": "n4Gk6UEgl_mc"
      },
      "outputs": [],
      "source": [
        "import pandas as pd\n",
        "import numpy as np\n",
        "import seaborn as sns\n",
        "import matplotlib.pyplot as plt\n"
      ]
    },
    {
      "cell_type": "code",
      "source": [
        "df_rev = pd.read_csv('calendar.csv')\n",
        "df_rev.head()"
      ],
      "metadata": {
        "id": "Aiy6OT_xresD"
      },
      "execution_count": null,
      "outputs": []
    },
    {
      "cell_type": "code",
      "source": [],
      "metadata": {
        "id": "4WxQpLHrzAbv"
      },
      "execution_count": null,
      "outputs": []
    },
    {
      "cell_type": "code",
      "source": [
        "def plot_corre_heatmap(corr):\n",
        "    '''\n",
        "    Definimos una función para ayudarnos a graficar un heatmap de correlación\n",
        "    '''\n",
        "    plt.figure(figsize=(12,10))\n",
        "    sns.heatmap(corr, cbar = True,  square = False, annot=True, fmt= '.2f'\n",
        "                ,annot_kws={'size': 15},cmap= 'coolwarm')\n",
        "    plt.xticks(rotation = 45)\n",
        "    plt.yticks(rotation = 45)\n",
        "    # Arreglamos un pequeño problema de visualización\n",
        "    b, t = plt.ylim() # discover the values for bottom and top\n",
        "    b += 0.5 # Add 0.5 to the bottom\n",
        "    t -= 0.5 # Subtract 0.5 from the top\n",
        "    plt.ylim(b, t) # update the ylim(bottom, top) values\n",
        "    plt.show()"
      ],
      "metadata": {
        "id": "2faRW7xCr_bm"
      },
      "execution_count": null,
      "outputs": []
    },
    {
      "cell_type": "code",
      "source": [
        "corr = df_rev.corr()\n",
        "plot_corre_heatmap(corr)"
      ],
      "metadata": {
        "id": "ycnI-E0fsIOa"
      },
      "execution_count": null,
      "outputs": []
    },
    {
      "cell_type": "code",
      "source": [
        "sns.countplot(x='minimum_nights', data=df_rev) #equivelante a sns.countplot(df.Conversion2)\n",
        "plt.show()"
      ],
      "metadata": {
        "id": "yZdIN969sT3n"
      },
      "execution_count": null,
      "outputs": []
    },
    {
      "cell_type": "code",
      "source": [
        "sns.pairplot(df_rev, hue = 'price')\n",
        "plt.show()"
      ],
      "metadata": {
        "id": "8Ozvyp3ktOmR"
      },
      "execution_count": null,
      "outputs": []
    },
    {
      "cell_type": "code",
      "source": [
        "from sklearn.tree import DecisionTreeClassifier\n",
        "from sklearn.neighbors import KNeighborsClassifier\n",
        "from sklearn.metrics import accuracy_score\n",
        "from sklearn.model_selection import cross_validate"
      ],
      "metadata": {
        "id": "OAkYw2c2v9BQ"
      },
      "execution_count": null,
      "outputs": []
    },
    {
      "cell_type": "code",
      "source": [
        "dfresult = df_rev.dropna(how='all', axis=1)"
      ],
      "metadata": {
        "id": "wHb_2EnD31ZP"
      },
      "execution_count": null,
      "outputs": []
    },
    {
      "cell_type": "code",
      "source": [
        "from sklearn.tree import DecisionTreeClassifier\n",
        "\n",
        "# Instanciamos un objeto de la clase DecisionTreeClassifier\n",
        "\n",
        "clf = DecisionTreeClassifier(max_depth = 3, random_state = 42)"
      ],
      "metadata": {
        "id": "Yk69PwGA3UgM"
      },
      "execution_count": null,
      "outputs": []
    },
    {
      "cell_type": "code",
      "source": [
        "X = df_rev[['minimum_nights','listing_id','maximum_nights']]\n",
        "y = df_rev['listing_id']"
      ],
      "metadata": {
        "id": "GGPjF5bX3e13"
      },
      "execution_count": null,
      "outputs": []
    },
    {
      "cell_type": "code",
      "source": [
        "df_rev.replace([np.inf, -np.inf], np.nan, inplace=True)"
      ],
      "metadata": {
        "id": "BWmu3BSA4x5l"
      },
      "execution_count": null,
      "outputs": []
    },
    {
      "cell_type": "code",
      "source": [
        "df_rev.fillna(999, inplace=True)"
      ],
      "metadata": {
        "id": "1tEqv83z5QWt"
      },
      "execution_count": null,
      "outputs": []
    },
    {
      "cell_type": "code",
      "source": [
        "X.fillna(X.mean(), inplace=True)"
      ],
      "metadata": {
        "id": "cZu4wQKB5pYb"
      },
      "execution_count": null,
      "outputs": []
    },
    {
      "cell_type": "code",
      "source": [
        "X_test = X.fillna(X.mean())"
      ],
      "metadata": {
        "id": "-C_pbVZj50gB"
      },
      "execution_count": null,
      "outputs": []
    },
    {
      "cell_type": "code",
      "source": [
        "# Entrenamos el modelo\n",
        "\n",
        "clf.fit(X.values,y.values)"
      ],
      "metadata": {
        "id": "fCuG7sIFxPM2"
      },
      "execution_count": null,
      "outputs": []
    },
    {
      "cell_type": "code",
      "source": [
        "print(clf.classes_)\n",
        "print(clf.n_classes_)\n",
        "print(clf.max_features_)\n",
        "print(clf.feature_importances_)"
      ],
      "metadata": {
        "id": "RM5lTWoOwB9D"
      },
      "execution_count": null,
      "outputs": []
    },
    {
      "cell_type": "code",
      "source": [
        "y_pred = clf.predict(X.values)"
      ],
      "metadata": {
        "id": "X7cKZpZP5-cp"
      },
      "execution_count": null,
      "outputs": []
    },
    {
      "cell_type": "code",
      "source": [
        "from sklearn.metrics import accuracy_score\n",
        "\n",
        "print(accuracy_score(y,y_pred))"
      ],
      "metadata": {
        "id": "LbHPyFaZ6_Eu"
      },
      "execution_count": null,
      "outputs": []
    },
    {
      "cell_type": "code",
      "source": [
        "plt.figure(figsize= (10,6))\n",
        "\n",
        "\n",
        "ax = sns.scatterplot(x = X.iloc[:,0], y = X.iloc[:,1], hue= y, palette='Set2')\n",
        "plt.legend().remove()\n",
        "\n",
        "\n",
        "xlim = ax.get_xlim()\n",
        "ylim = ax.get_ylim()\n",
        "xx, yy = np.meshgrid(np.linspace(*xlim, num=200),\n",
        "                      np.linspace(*ylim, num=200))\n",
        "Z = clf.predict(np.c_[xx.ravel(), yy.ravel()]).reshape(xx.shape)\n",
        "\n",
        "contours = ax.contourf(xx, yy, Z, alpha=0.3, cmap = 'Set2')\n",
        "plt.tight_layout()\n",
        "plt.title('Fronteras de decisión', fontsize= 15)\n",
        "plt.show()"
      ],
      "metadata": {
        "id": "af4b-AZN7G_y"
      },
      "execution_count": null,
      "outputs": []
    },
    {
      "cell_type": "code",
      "source": [
        "from sklearn import tree"
      ],
      "metadata": {
        "id": "GNDodUgn7II9"
      },
      "execution_count": null,
      "outputs": []
    },
    {
      "cell_type": "code",
      "source": [
        "plt.figure(figsize = (10,7))\n",
        "tree.plot_tree(clf, filled = True)\n",
        "plt.show()"
      ],
      "metadata": {
        "id": "VMJNFdA87MRi"
      },
      "execution_count": null,
      "outputs": []
    },
    {
      "cell_type": "code",
      "source": [
        "# Ploteamos la importancia de los atributos elegidos a la hora de hacer la predicción\n",
        "\n",
        "\n",
        "plt.figure(figsize = (8,5))\n",
        "\n",
        "importances = clf.feature_importances_\n",
        "columns = X.columns\n",
        "sns.barplot(x = columns, y = importances)\n",
        "plt.title('Importancia de cada feature', fontsize = 15)\n",
        "plt.show()"
      ],
      "metadata": {
        "id": "2QrS9b_I7PBG"
      },
      "execution_count": null,
      "outputs": []
    },
    {
      "cell_type": "code",
      "source": [
        "from sklearn.neighbors import KNeighborsClassifier\n",
        "\n",
        "# Instanciamos un objeto de la clase KNeighborsClassifier\n",
        "\n",
        "clf = KNeighborsClassifier(n_neighbors=100)"
      ],
      "metadata": {
        "id": "601ie1Px7R7S"
      },
      "execution_count": null,
      "outputs": []
    },
    {
      "cell_type": "code",
      "source": [
        "\n",
        "clf.fit(X.values,y.values)"
      ],
      "metadata": {
        "id": "JGOyhzCD9mne"
      },
      "execution_count": null,
      "outputs": []
    },
    {
      "cell_type": "code",
      "source": [
        "y_pred = clf.predict(X.values)"
      ],
      "metadata": {
        "id": "Pcd1ls079ojl"
      },
      "execution_count": null,
      "outputs": []
    },
    {
      "cell_type": "code",
      "source": [
        "print(accuracy_score(y,y_pred))"
      ],
      "metadata": {
        "id": "UulRjUlO9sTN"
      },
      "execution_count": null,
      "outputs": []
    },
    {
      "cell_type": "code",
      "source": [
        "plt.figure(figsize= (10,6))\n",
        "ax = sns.scatterplot(x = X.iloc[:,0], y = X.iloc[:,1], hue=y, palette='Set2')\n",
        "plt.legend().remove()\n",
        "\n",
        "\n",
        "xlim = ax.get_xlim()\n",
        "ylim = ax.get_ylim()\n",
        "xx, yy = np.meshgrid(np.linspace(*xlim, num=200),\n",
        "                      np.linspace(*ylim, num=200))\n",
        "Z = clf.predict(np.c_[xx.ravel(), yy.ravel()]).reshape(xx.shape)\n",
        "\n",
        "contours = ax.contourf(xx, yy, Z, alpha=0.3, cmap = 'Set2')\n",
        "plt.tight_layout()\n",
        "# plt.savefig('arbol_iris.png', dpi = 400)\n",
        "plt.show()"
      ],
      "metadata": {
        "id": "y0li0DgB9u1Z"
      },
      "execution_count": null,
      "outputs": []
    },
    {
      "cell_type": "code",
      "source": [],
      "metadata": {
        "id": "7rGR9yi595hy"
      },
      "execution_count": null,
      "outputs": []
    }
  ]
}